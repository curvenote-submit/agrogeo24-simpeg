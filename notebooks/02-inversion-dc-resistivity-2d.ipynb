{
 "cells": [
  {
   "cell_type": "markdown",
   "metadata": {},
   "source": [
    "# 2.5D DC Resistivity Inversion"
   ]
  },
  {
   "cell_type": "markdown",
   "metadata": {},
   "source": [
    "This tutorial demonstrates DC resistivity inversion with SimPEG. We load normalized voltage data and 2D topography for a 2D survey line. Once loaded, we demonstrate a standard set of steps for recovering a model that characterizing subsurface electrical resistivity using weighted least-squares inversion.\n",
    "\n",
    "The following items are emphasized in this tutorial:\n",
    "\n",
    "- Assigning uncertainties to DC resistivity data.\n",
    "- Designing a suitable mesh based on survey geometry.\n",
    "- What model parameters we should invert for.\n",
    "- Defining the inverse problem (data misfit, regularization, optimization).\n",
    "- Stopping criteria for the inversion.\n",
    "- Assessing inversion outputs.\n",
    "\n",
    "<img src=\"https://raw.githubusercontent.com/simpeg/agrogeo24/main/images/dcr_inv.png\" width=\"100%\" align=\"center\"/>"
   ]
  },
  {
   "cell_type": "markdown",
   "metadata": {},
   "source": [
    "## Step 0: Importing Modules\n",
    "\n",
    "Here, we import all of the functionality required to run the notebook for the tutorial exercise. All of the functionality specific to DC resistivity is imported from [SimPEG.electromagnetics.static.resistivity](https://docs.simpeg.xyz/content/api/SimPEG.electromagnetics.static.resistivity.html).\n",
    "We also import some useful utility functions from [SimPEG.utils](https://docs.simpeg.xyz/content/api/SimPEG.utils.html). To simulate DC resistivity data, we need to define our problem geometry on a numerical grid (or mesh).\n",
    "To generate the mesh, we used the [discretize](https://discretize.simpeg.xyz/en/main) package."
   ]
  },
  {
   "cell_type": "code",
   "execution_count": 1,
   "metadata": {},
   "outputs": [
    {
     "name": "stderr",
     "output_type": "stream",
     "text": [
      "C:\\Users\\devin\\anaconda3\\lib\\site-packages\\paramiko\\transport.py:219: CryptographyDeprecationWarning: Blowfish has been deprecated\n",
      "  \"class\": algorithms.Blowfish,\n"
     ]
    }
   ],
   "source": [
    "# SimPEG functionality\n",
    "from SimPEG.electromagnetics.static import resistivity as dc\n",
    "from SimPEG.electromagnetics.static.utils.static_utils import (\n",
    "    plot_pseudosection,\n",
    "    apparent_resistivity_from_voltage,\n",
    "    pseudo_locations,\n",
    ")\n",
    "from SimPEG.utils.io_utils.io_utils_electromagnetics import read_dcip2d_ubc\n",
    "from SimPEG.utils import model_builder, Counter\n",
    "from SimPEG import (\n",
    "    maps,\n",
    "    data_misfit,\n",
    "    regularization,\n",
    "    optimization,\n",
    "    inverse_problem,\n",
    "    inversion,\n",
    "    directives,\n",
    ")\n",
    "\n",
    "# discretize functionality\n",
    "from discretize import TreeMesh\n",
    "from discretize.utils import active_from_xyz\n",
    "\n",
    "# Basic Python functionality\n",
    "import numpy as np\n",
    "import matplotlib as mpl\n",
    "import matplotlib.pyplot as plt\n",
    "from matplotlib.colors import LogNorm\n",
    "import warnings\n",
    "\n",
    "# Pooch for downloading files from the web\n",
    "import pooch\n",
    "\n",
    "warnings.filterwarnings(\"ignore\")\n",
    "\n",
    "mpl.rcParams.update({\"font.size\": 14})  # default font size\n",
    "cmap = mpl.cm.RdYlBu_r  # default colormap"
   ]
  },
  {
   "cell_type": "markdown",
   "metadata": {},
   "source": [
    "Below is a class specifically used for this tutorial. It is not important to spent time reading through the code in this cell."
   ]
  },
  {
   "cell_type": "code",
   "execution_count": 2,
   "metadata": {},
   "outputs": [],
   "source": [
    "class SaveInversionProgress(directives.InversionDirective, Counter):\n",
    "    \"\"\"\n",
    "    A custom directive to save items of interest during the course of an inversion\n",
    "    \"\"\"\n",
    "\n",
    "    def initialize(self):\n",
    "        \"\"\"\n",
    "        This is called when we first start running an inversion\n",
    "        \"\"\"\n",
    "        # initialize an empty dictionary for storing results\n",
    "        self.inversion_results = {\n",
    "            \"iteration\": [],\n",
    "            \"beta\": [],\n",
    "            \"phi_d\": [],\n",
    "            \"phi_m\": [],\n",
    "            \"phi_m_small\": [],\n",
    "            \"phi_m_smooth_x\": [],\n",
    "            \"phi_m_smooth_z\": [],\n",
    "            \"dpred\": [],\n",
    "            \"model\": [],\n",
    "        }\n",
    "\n",
    "    def endIter(self):\n",
    "        \"\"\"\n",
    "        This is run at the end of every iteration. So here, we just append\n",
    "        the new values to our dictionary\n",
    "        \"\"\"\n",
    "\n",
    "        self.inversion_results[\"iteration\"].append(self.opt.iter)\n",
    "        self.inversion_results[\"beta\"].append(self.invProb.beta)\n",
    "        self.inversion_results[\"phi_d\"].append(2 * self.invProb.phi_d)\n",
    "        self.inversion_results[\"phi_m\"].append(2 * self.invProb.phi_m)\n",
    "        self.inversion_results[\"dpred\"].append(self.invProb.dpred)\n",
    "        self.inversion_results[\"model\"].append(self.invProb.model)\n",
    "\n",
    "        reg = self.reg.objfcts[0]\n",
    "        phi_s = reg.objfcts[0](self.invProb.model) * reg.multipliers[0]\n",
    "        phi_x = reg.objfcts[1](self.invProb.model) * reg.multipliers[1]\n",
    "        phi_z = reg.objfcts[2](self.invProb.model) * reg.multipliers[2]\n",
    "\n",
    "        self.inversion_results[\"phi_m_small\"].append(phi_s)\n",
    "        self.inversion_results[\"phi_m_smooth_x\"].append(phi_x)\n",
    "        self.inversion_results[\"phi_m_smooth_z\"].append(phi_z)"
   ]
  },
  {
   "cell_type": "markdown",
   "metadata": {},
   "source": [
    "## Step1: Load Data and Plot\n",
    "\n",
    "For most geophysical inversion projects, a reasonable inversion result can be obtained so long as the practitioner has observed data, the survey geometry and topography. For this tutorial, the observed data, survey and topography files are provided. Here, we download and import these items into the SimPEG framework.\n",
    "\n",
    "### <span style=\"color:darkgreen\">Exercise (beginner):</span>\n",
    "\n",
    "Define a variable **data_type = \"dipole-dipole\"** to load the dipole-dipole tutorial data set.\n",
    "\n",
    "### <span style=\"color:darkorange\">Exercise (advanced):</span>\n",
    "\n",
    "Define a variable **data_type = \"pole-dipole\"** to load the pole-dipole tutorial data set."
   ]
  },
  {
   "cell_type": "code",
   "execution_count": 6,
   "metadata": {},
   "outputs": [],
   "source": [
    "data_type = 'dipole-dipole'"
   ]
  },
  {
   "cell_type": "code",
   "execution_count": 7,
   "metadata": {},
   "outputs": [],
   "source": [
    "topo_url = \"https://github.com/simpeg/agrogeo24/raw/main/data/topo_2d.txt\"\n",
    "topo_hash = \"1B2DAC5C46E48AB1C5606BB14621279C0A86DFD7790674A9FAAD83F3595E7030\"\n",
    "\n",
    "topo_filename = pooch.retrieve(topo_url, known_hash=topo_hash)"
   ]
  },
  {
   "cell_type": "code",
   "execution_count": 8,
   "metadata": {},
   "outputs": [
    {
     "name": "stderr",
     "output_type": "stream",
     "text": [
      "Downloading data from 'https://github.com/simpeg/agrogeo24/raw/main/data/dipole_dipole.obs' to file 'C:\\Users\\devin\\AppData\\Local\\pooch\\pooch\\Cache\\66e6ca2accd3429160524445d7968e13-dipole_dipole.obs'.\n"
     ]
    },
    {
     "ename": "ValueError",
     "evalue": "SHA256 hash of downloaded file (66e6ca2accd3429160524445d7968e13-dipole_dipole.obs) does not match the known hash: expected EBA4F058B5189DB974E261F4C0B4C18B7841F29E6304F3138E94FACB436A2E58 but got 41ad436c6f3ce9f76aff95e4b6e50c85c851bb674e0c36ed0150b655c1534eb2. Deleted download for safety. The downloaded file may have been corrupted or the known hash may be outdated.",
     "output_type": "error",
     "traceback": [
      "\u001b[1;31m---------------------------------------------------------------------------\u001b[0m",
      "\u001b[1;31mValueError\u001b[0m                                Traceback (most recent call last)",
      "Cell \u001b[1;32mIn[8], line 4\u001b[0m\n\u001b[0;32m      2\u001b[0m     data_url \u001b[38;5;241m=\u001b[39m \u001b[38;5;124m\"\u001b[39m\u001b[38;5;124mhttps://github.com/simpeg/agrogeo24/raw/main/data/dipole_dipole.obs\u001b[39m\u001b[38;5;124m\"\u001b[39m\n\u001b[0;32m      3\u001b[0m     data_hash \u001b[38;5;241m=\u001b[39m \u001b[38;5;124m\"\u001b[39m\u001b[38;5;124mEBA4F058B5189DB974E261F4C0B4C18B7841F29E6304F3138E94FACB436A2E58\u001b[39m\u001b[38;5;124m\"\u001b[39m\n\u001b[1;32m----> 4\u001b[0m     data_filename \u001b[38;5;241m=\u001b[39m \u001b[43mpooch\u001b[49m\u001b[38;5;241;43m.\u001b[39;49m\u001b[43mretrieve\u001b[49m\u001b[43m(\u001b[49m\u001b[43mdata_url\u001b[49m\u001b[43m,\u001b[49m\u001b[43m \u001b[49m\u001b[43mknown_hash\u001b[49m\u001b[38;5;241;43m=\u001b[39;49m\u001b[43mdata_hash\u001b[49m\u001b[43m)\u001b[49m\n\u001b[0;32m      5\u001b[0m \u001b[38;5;28;01melif\u001b[39;00m data_type \u001b[38;5;241m==\u001b[39m \u001b[38;5;124m'\u001b[39m\u001b[38;5;124mpole-dipole\u001b[39m\u001b[38;5;124m'\u001b[39m:\n\u001b[0;32m      6\u001b[0m     data_url \u001b[38;5;241m=\u001b[39m \u001b[38;5;124m\"\u001b[39m\u001b[38;5;124mhttps://github.com/simpeg/agrogeo24/raw/main/data/pole_dipole.obs\u001b[39m\u001b[38;5;124m\"\u001b[39m\n",
      "File \u001b[1;32m~\\anaconda3\\lib\\site-packages\\pooch\\core.py:227\u001b[0m, in \u001b[0;36mretrieve\u001b[1;34m(url, known_hash, fname, path, processor, downloader)\u001b[0m\n\u001b[0;32m    224\u001b[0m \u001b[38;5;28;01mif\u001b[39;00m downloader \u001b[38;5;129;01mis\u001b[39;00m \u001b[38;5;28;01mNone\u001b[39;00m:\n\u001b[0;32m    225\u001b[0m     downloader \u001b[38;5;241m=\u001b[39m choose_downloader(url)\n\u001b[1;32m--> 227\u001b[0m \u001b[43mstream_download\u001b[49m\u001b[43m(\u001b[49m\u001b[43murl\u001b[49m\u001b[43m,\u001b[49m\u001b[43m \u001b[49m\u001b[43mfull_path\u001b[49m\u001b[43m,\u001b[49m\u001b[43m \u001b[49m\u001b[43mknown_hash\u001b[49m\u001b[43m,\u001b[49m\u001b[43m \u001b[49m\u001b[43mdownloader\u001b[49m\u001b[43m,\u001b[49m\u001b[43m \u001b[49m\u001b[43mpooch\u001b[49m\u001b[38;5;241;43m=\u001b[39;49m\u001b[38;5;28;43;01mNone\u001b[39;49;00m\u001b[43m)\u001b[49m\n\u001b[0;32m    229\u001b[0m \u001b[38;5;28;01mif\u001b[39;00m known_hash \u001b[38;5;129;01mis\u001b[39;00m \u001b[38;5;28;01mNone\u001b[39;00m:\n\u001b[0;32m    230\u001b[0m     get_logger()\u001b[38;5;241m.\u001b[39minfo(\n\u001b[0;32m    231\u001b[0m         \u001b[38;5;124m\"\u001b[39m\u001b[38;5;124mSHA256 hash of downloaded file: \u001b[39m\u001b[38;5;132;01m%s\u001b[39;00m\u001b[38;5;130;01m\\n\u001b[39;00m\u001b[38;5;124m\"\u001b[39m\n\u001b[0;32m    232\u001b[0m         \u001b[38;5;124m\"\u001b[39m\u001b[38;5;124mUse this value as the \u001b[39m\u001b[38;5;124m'\u001b[39m\u001b[38;5;124mknown_hash\u001b[39m\u001b[38;5;124m'\u001b[39m\u001b[38;5;124m argument of \u001b[39m\u001b[38;5;124m'\u001b[39m\u001b[38;5;124mpooch.retrieve\u001b[39m\u001b[38;5;124m'\u001b[39m\u001b[38;5;124m\"\u001b[39m\n\u001b[1;32m   (...)\u001b[0m\n\u001b[0;32m    235\u001b[0m         file_hash(\u001b[38;5;28mstr\u001b[39m(full_path)),\n\u001b[0;32m    236\u001b[0m     )\n",
      "File \u001b[1;32m~\\anaconda3\\lib\\site-packages\\pooch\\core.py:725\u001b[0m, in \u001b[0;36mstream_download\u001b[1;34m(url, fname, known_hash, downloader, pooch, retry_if_failed)\u001b[0m\n\u001b[0;32m    723\u001b[0m \u001b[38;5;28;01mwith\u001b[39;00m temporary_file(path\u001b[38;5;241m=\u001b[39m\u001b[38;5;28mstr\u001b[39m(fname\u001b[38;5;241m.\u001b[39mparent)) \u001b[38;5;28;01mas\u001b[39;00m tmp:\n\u001b[0;32m    724\u001b[0m     downloader(url, tmp, pooch)\n\u001b[1;32m--> 725\u001b[0m     \u001b[43mhash_matches\u001b[49m\u001b[43m(\u001b[49m\u001b[43mtmp\u001b[49m\u001b[43m,\u001b[49m\u001b[43m \u001b[49m\u001b[43mknown_hash\u001b[49m\u001b[43m,\u001b[49m\u001b[43m \u001b[49m\u001b[43mstrict\u001b[49m\u001b[38;5;241;43m=\u001b[39;49m\u001b[38;5;28;43;01mTrue\u001b[39;49;00m\u001b[43m,\u001b[49m\u001b[43m \u001b[49m\u001b[43msource\u001b[49m\u001b[38;5;241;43m=\u001b[39;49m\u001b[38;5;28;43mstr\u001b[39;49m\u001b[43m(\u001b[49m\u001b[43mfname\u001b[49m\u001b[38;5;241;43m.\u001b[39;49m\u001b[43mname\u001b[49m\u001b[43m)\u001b[49m\u001b[43m)\u001b[49m\n\u001b[0;32m    726\u001b[0m     shutil\u001b[38;5;241m.\u001b[39mmove(tmp, \u001b[38;5;28mstr\u001b[39m(fname))\n\u001b[0;32m    727\u001b[0m \u001b[38;5;28;01mbreak\u001b[39;00m\n",
      "File \u001b[1;32m~\\anaconda3\\lib\\site-packages\\pooch\\utils.py:384\u001b[0m, in \u001b[0;36mhash_matches\u001b[1;34m(fname, known_hash, strict, source)\u001b[0m\n\u001b[0;32m    382\u001b[0m     \u001b[38;5;28;01mif\u001b[39;00m source \u001b[38;5;129;01mis\u001b[39;00m \u001b[38;5;28;01mNone\u001b[39;00m:\n\u001b[0;32m    383\u001b[0m         source \u001b[38;5;241m=\u001b[39m \u001b[38;5;28mstr\u001b[39m(fname)\n\u001b[1;32m--> 384\u001b[0m     \u001b[38;5;28;01mraise\u001b[39;00m \u001b[38;5;167;01mValueError\u001b[39;00m(\n\u001b[0;32m    385\u001b[0m         \u001b[38;5;124mf\u001b[39m\u001b[38;5;124m\"\u001b[39m\u001b[38;5;132;01m{\u001b[39;00malgorithm\u001b[38;5;241m.\u001b[39mupper()\u001b[38;5;132;01m}\u001b[39;00m\u001b[38;5;124m hash of downloaded file (\u001b[39m\u001b[38;5;132;01m{\u001b[39;00msource\u001b[38;5;132;01m}\u001b[39;00m\u001b[38;5;124m) does not match\u001b[39m\u001b[38;5;124m\"\u001b[39m\n\u001b[0;32m    386\u001b[0m         \u001b[38;5;124mf\u001b[39m\u001b[38;5;124m\"\u001b[39m\u001b[38;5;124m the known hash: expected \u001b[39m\u001b[38;5;132;01m{\u001b[39;00mknown_hash\u001b[38;5;132;01m}\u001b[39;00m\u001b[38;5;124m but got \u001b[39m\u001b[38;5;132;01m{\u001b[39;00mnew_hash\u001b[38;5;132;01m}\u001b[39;00m\u001b[38;5;124m. Deleted\u001b[39m\u001b[38;5;124m\"\u001b[39m\n\u001b[0;32m    387\u001b[0m         \u001b[38;5;124m\"\u001b[39m\u001b[38;5;124m download for safety. The downloaded file may have been corrupted or\u001b[39m\u001b[38;5;124m\"\u001b[39m\n\u001b[0;32m    388\u001b[0m         \u001b[38;5;124m\"\u001b[39m\u001b[38;5;124m the known hash may be outdated.\u001b[39m\u001b[38;5;124m\"\u001b[39m\n\u001b[0;32m    389\u001b[0m     )\n\u001b[0;32m    390\u001b[0m \u001b[38;5;28;01mreturn\u001b[39;00m matches\n",
      "\u001b[1;31mValueError\u001b[0m: SHA256 hash of downloaded file (66e6ca2accd3429160524445d7968e13-dipole_dipole.obs) does not match the known hash: expected EBA4F058B5189DB974E261F4C0B4C18B7841F29E6304F3138E94FACB436A2E58 but got 41ad436c6f3ce9f76aff95e4b6e50c85c851bb674e0c36ed0150b655c1534eb2. Deleted download for safety. The downloaded file may have been corrupted or the known hash may be outdated."
     ]
    }
   ],
   "source": [
    "if data_type == 'dipole-dipole':\n",
    "    data_url = \"https://github.com/simpeg/agrogeo24/raw/main/data/dipole_dipole.obs\"\n",
    "    data_hash = \"EBA4F058B5189DB974E261F4C0B4C18B7841F29E6304F3138E94FACB436A2E58\"\n",
    "    data_filename = pooch.retrieve(data_url, known_hash=data_hash)\n",
    "elif data_type == 'pole-dipole':\n",
    "    data_url = \"https://github.com/simpeg/agrogeo24/raw/main/data/pole_dipole.obs\"\n",
    "    data_hash = \"0B4CB777C23BE6DE0A5941C8254010179ACA7C8EB67DC06A2E9E1F0158E32421\"\n",
    "    data_filename = pooch.retrieve(data_url, known_hash=data_hash)\n",
    "else:\n",
    "    raise ValueError(\"Must set data_type to 'dipole-dipole' or 'pole-dipole'\")"
   ]
  },
  {
   "cell_type": "markdown",
   "metadata": {},
   "source": [
    "### Load Topography\n",
    "\n",
    "For a 2.5D problem geometry, topography is an (N, 2) *numpy.ndarray*, where the first coordinate represent along-line position and the second coordinate represents the vertical position. Here, the topography is loaded from a simple text file containing two columns."
   ]
  },
  {
   "cell_type": "code",
   "execution_count": null,
   "metadata": {},
   "outputs": [],
   "source": [
    "topo_2d = np.loadtxt(str(topo_filename))"
   ]
  },
  {
   "cell_type": "markdown",
   "metadata": {},
   "source": [
    "### Load the Observed Data\n",
    "\n",
    "For this tutorial, the observed data and survey geometry are organized within [a standard file format](https://dcip2d.readthedocs.io/en/latest/content/observations.html) used for 2.5D DC resistivity. This file format was developed for the [UBC-GIF DCIP2D](https://dcip2d.readthedocs.io/en/latest/index.html) coding package. We can use the [read_dcip2d_ubc](https://docs.simpeg.xyz/content/api/generated/SimPEG.utils.io_utils.read_dcip2d_ubc.html#SimPEG.utils.io_utils.read_dcip2d_ubc) utility function to load data in this format. The utility function outputs a SimPEG [Data](https://docs.simpeg.xyz/content/api/generated/SimPEG.data.Data.html) object. The data values are normalized voltages in units V/A."
   ]
  },
  {
   "cell_type": "code",
   "execution_count": null,
   "metadata": {},
   "outputs": [],
   "source": [
    "dc_data = read_dcip2d_ubc(data_filename, \"volt\", \"general\")"
   ]
  },
  {
   "cell_type": "markdown",
   "metadata": {},
   "source": [
    "### Plot the Topography and Electrode Locations"
   ]
  },
  {
   "cell_type": "code",
   "execution_count": null,
   "metadata": {},
   "outputs": [],
   "source": [
    "unique_locations = dc_data.survey.unique_electrode_locations\n",
    "\n",
    "fig = plt.figure(figsize=(10, 2))\n",
    "ax = fig.add_axes([0.1, 0.1, 0.8, 0.8])\n",
    "ax.plot(topo_2d[:, 0], topo_2d[:, -1], color=\"b\", linewidth=1)\n",
    "ax.plot(unique_locations[:, 0], unique_locations[:, -1], \"ro\", markersize=4)\n",
    "ax.set_xlim([topo_2d[:, 0].min(), topo_2d[:, 0].max()])\n",
    "ax.set_xlabel(\"x (m)\", labelpad=5)\n",
    "ax.set_ylabel(\"y (m)\", labelpad=5)\n",
    "ax.grid(True)\n",
    "ax.set_title(\"Topography and Electrode Locations\", fontsize=16, pad=10)\n",
    "plt.show(fig)"
   ]
  },
  {
   "cell_type": "markdown",
   "metadata": {},
   "source": [
    "### Plot Observed Data in Pseudo-Section\n",
    "\n",
    "Here we use the [plot_pseudosection](https://docs.simpeg.xyz/content/api/generated/SimPEG.electromagnetics.static.utils.plot_pseudosection.html#SimPEG.electromagnetics.static.utils.plot_pseudosection) utility function to plot the normalized voltage data in pseudosection. We also use the [apparent_resistivity_from_voltage](https://docs.simpeg.xyz/content/api/generated/SimPEG.electromagnetics.static.utils.apparent_resistivity_from_voltage.html#SimPEG.electromagnetics.static.utils.apparent_resistivity_from_voltage) utility function to convert the data to apparent resistivities, which are also plotted in pseudosection."
   ]
  },
  {
   "cell_type": "code",
   "execution_count": null,
   "metadata": {},
   "outputs": [],
   "source": [
    "# Plot voltages pseudo-section\n",
    "fig = plt.figure(figsize=(8, 2.75))\n",
    "ax1 = fig.add_axes([0.1, 0.15, 0.75, 0.78])\n",
    "plot_pseudosection(\n",
    "    dc_data,\n",
    "    plot_type=\"scatter\",\n",
    "    ax=ax1,\n",
    "    scale=\"log\",\n",
    "    cbar_label=\"V/A\",\n",
    "    scatter_opts={\"cmap\": mpl.cm.viridis},\n",
    ")\n",
    "ax1.set_title(\"Normalized Voltages\")\n",
    "plt.show()\n",
    "\n",
    "# Get apparent conductivities from volts and survey geometry\n",
    "apparent_resistivities = apparent_resistivity_from_voltage(dc_data.survey, dc_data.dobs)\n",
    "\n",
    "# Plot apparent resistivity pseudo-section\n",
    "fig = plt.figure(figsize=(8, 2.75))\n",
    "ax1 = fig.add_axes([0.1, 0.15, 0.75, 0.78])\n",
    "plot_pseudosection(\n",
    "    dc_data.survey,\n",
    "    apparent_resistivities,\n",
    "    plot_type=\"contourf\",\n",
    "    data_locations=True,\n",
    "    ax=ax1,\n",
    "    scale=\"log\",\n",
    "    cbar_label=\"$\\Omega m$\",\n",
    "    mask_topography=True,\n",
    "    contourf_opts={\"levels\": 20, \"cmap\": mpl.cm.RdYlBu_r},\n",
    ")\n",
    "ax1.set_title(\"Apparent Resistivity\")\n",
    "plt.show()"
   ]
  },
  {
   "cell_type": "markdown",
   "metadata": {},
   "source": [
    "## Step 2: Assign Uncertainties\n",
    "\n",
    "Field-collected data contains both the geophysical signal of interest and noise. As such, the observed datum $d_i^{obs}$ can be defined as:\n",
    "\n",
    "$$\n",
    "d_i^{obs} = d_i^{true} + \\eta_i\n",
    "$$\n",
    "\n",
    "where $d_i^{true}$ is the geophysical signal we want to interpret and $\\eta_i$ represents the noise. In geophysical inversion, it important that we accurately quantify the noise on our data. Because our goal is to recover a model that explains the geophysical signal of interest, and not necessarily one that fits the data perfectly.\n",
    "\n",
    "<img src=\"https://raw.githubusercontent.com/simpeg/agrogeo24/main/images/true_observed_data.png\" width=\"90%\" align=\"center\"/>\n",
    "\n",
    "**Definition of uncertainties:** For a particular datum, the uncertainty is an estimate of the standard deviation of the noise on our data. In SimPEG, we assume the noise is uncorrelated Gaussian with zero mean. An online resource explaining uncertainties and their role in the inversion can be found [here](https://giftoolscookbook.readthedocs.io/en/latest/content/fundamentals/Uncertainties.html).\n",
    "\n",
    "**Assigning uncertainties to DC resistivity data:** For both normalized voltage data and apparent resistivity data, we generally apply a percent uncertainty plus a very small floor value to all data. Differences in electrode spacing and subsurface resistivity result in measured voltages and apparent conductivities that span several orders of magnitude. A percent uncertainty ensures all data are fit equally. Depending on the quality of the data, we may choose a percent uncertainty between 2% - 10%. The floor uncertainty ensures stability when there are zero-crossings or erroneously small voltages.\n",
    "\n",
    "### <span style=\"color:darkgreen\">Exercise (beginner):</span>\n",
    "\n",
    "Assign uncertainties of 1e-8 V/A + 8 % to all data. We can do this by setting the *standard_deviation* property of the data object.\n",
    "\n",
    "### <span style=\"color:darkorange\">Exercise (advanced):</span>\n",
    "\n",
    "Assign uncertainties of 1e-8 V/A + 4 % to all data. This represents the case when we under-estimate the standard deviations of the noise on our data."
   ]
  },
  {
   "cell_type": "code",
   "execution_count": null,
   "metadata": {},
   "outputs": [],
   "source": [
    "# Apply uncertainties to normalized voltage data\n",
    "dc_data.standard_deviation = 1e-8 + 0.04 * np.abs(dc_data.dobs)"
   ]
  },
  {
   "cell_type": "markdown",
   "metadata": {},
   "source": [
    "Below, we plot the sorted data values including uncertainty bounds."
   ]
  },
  {
   "cell_type": "code",
   "execution_count": null,
   "metadata": {},
   "outputs": [],
   "source": [
    "# Sorted DC data and their uncertainties\n",
    "inds_sort = np.argsort(np.abs(dc_data.dobs))\n",
    "sorted_data = np.abs(dc_data.dobs[inds_sort])\n",
    "sorted_std = dc_data.standard_deviation[inds_sort]\n",
    "\n",
    "fig = plt.figure(figsize=(7, 5))\n",
    "ax = fig.add_axes([0.1, 0.1, 0.8, 0.8])\n",
    "\n",
    "x_plot = np.arange(0, len(sorted_data))\n",
    "ax.semilogy(x_plot, sorted_data, \"k.\", markersize=1)\n",
    "\n",
    "ax.set_title(\"Sorted Data and Uncertainties\")\n",
    "ax.fill_between(x_plot, sorted_data - sorted_std, sorted_data + sorted_std, alpha=0.5)\n",
    "ax.grid(alpha=0.5)\n",
    "ax.set_ylabel(\"Observed Data (V/A)\")"
   ]
  },
  {
   "cell_type": "markdown",
   "metadata": {},
   "source": [
    "## Step 3: Designing a (Tree) Mesh\n",
    "\n",
    "Here, we define the mesh used for the inversion. Not only will this define the numerical grid on which we solve the forward problem for a given model, it also determine the discretize spacing on which we recover the model itself. Recall our general rules for designing meshes to simulate DC resistivity data:\n",
    "\n",
    "<img src=\"https://raw.githubusercontent.com/simpeg/agrogeo24/main/images/tree_mesh.png\" width=\"45%\" align=\"right\"/>\n",
    "\n",
    "1. Because there are no currents in the air, we do not need to pad upwards. I.e. the top of the mesh corresponds to the top of the topography.\n",
    "2. We require at least 2-3 cells between each current electrode; with more accurate results being obtained when the minimum cell size is smaller. For a 2.5D problem geometry, we can discretize much finer.\n",
    "3. To be safe, the padding thickness should be at least 2-3 times the largest electrode spacing. \n",
    "4. The increase in cell size at increasing distance from the current electrodes should not happen too abruptly. At each cell size, you should have a layer at least 4 cells thick before increasing the cell size.\n",
    "5. Finer discretization is required when topography is significant.\n",
    "\n",
    "\n",
    "### <span style=\"color:darkgreen\">Exercise (beginner):</span>\n",
    "\n",
    "Define and provide reasonable values for the following variables:\n",
    "\n",
    "* **dh** (minimum cell width)\n",
    "* **dom_width_x** (width of the domain along x)\n",
    "* **dom_width_y** (width of the domain along y)\n",
    "\n",
    "To do this, we access information from our data object. Here we:\n",
    "\n",
    "1. Obtain the unique electrode locations from the *dc_data* object\n",
    "2. Use this to find the minimum and maximum electrode spacing\n",
    "3. Use this to determine good values for *dh*, *dom_width_x* and *dom_width_y*"
   ]
  },
  {
   "cell_type": "code",
   "execution_count": null,
   "metadata": {
    "scrolled": false
   },
   "outputs": [],
   "source": [
    "unique_electrodes = dc_data.survey.unique_electrode_locations"
   ]
  },
  {
   "cell_type": "code",
   "execution_count": null,
   "metadata": {},
   "outputs": [],
   "source": [
    "s_min = np.min(np.diff(unique_electrodes[:, 0]))\n",
    "s_max = s_min * dc_data.survey.source_list[0].vnD"
   ]
  },
  {
   "cell_type": "code",
   "execution_count": null,
   "metadata": {},
   "outputs": [],
   "source": [
    "print(s_min)\n",
    "print(s_max)"
   ]
  },
  {
   "cell_type": "code",
   "execution_count": null,
   "metadata": {},
   "outputs": [],
   "source": [
    "dh = s_min / 10.0  # base cell width\n",
    "dom_width_x = 8 * s_max  # domain width x\n",
    "dom_width_y = 4 * s_max  # domain width y"
   ]
  },
  {
   "cell_type": "code",
   "execution_count": null,
   "metadata": {},
   "outputs": [],
   "source": [
    "nbcx = 2 ** int(np.round(np.log(dom_width_x / dh) / np.log(2.0)))  # num. base cells x\n",
    "nbcy = 2 ** int(np.round(np.log(dom_width_y / dh) / np.log(2.0)))  # num. base cells y\n",
    "\n",
    "# Define the base mesh with top at z = 0 m\n",
    "hx = [(dh, nbcx)]\n",
    "hy = [(dh, nbcy)]\n",
    "mesh = TreeMesh([hx, hy], origin=\"CN\")\n",
    "\n",
    "# Shift top to maximum topography and center of survey line\n",
    "y_topo_max = np.max(topo_2d[:, -1])\n",
    "mesh.origin = mesh.origin + np.r_[np.median(topo_2d[:, 0]), y_topo_max]"
   ]
  },
  {
   "cell_type": "code",
   "execution_count": null,
   "metadata": {},
   "outputs": [],
   "source": [
    "# Mesh refinement based on topography\n",
    "mesh.refine_surface(\n",
    "    topo_2d[np.abs(topo_2d[:, 0]) < 150.0, :],\n",
    "    padding_cells_by_level=[0, 0, 4, 4],\n",
    "    finalize=False,\n",
    ")\n",
    "\n",
    "# Extract unique electrode locations.\n",
    "unique_locations = dc_data.survey.unique_electrode_locations\n",
    "\n",
    "# Mesh refinement near electrodes.\n",
    "mesh.refine_points(\n",
    "    unique_locations, padding_cells_by_level=[10, 8, 8, 8, 4, 4], finalize=False\n",
    ")"
   ]
  },
  {
   "cell_type": "code",
   "execution_count": null,
   "metadata": {},
   "outputs": [],
   "source": [
    "# Finalize the mesh\n",
    "mesh.finalize()"
   ]
  },
  {
   "cell_type": "markdown",
   "metadata": {},
   "source": [
    "## Step 4: Define the Active Cells\n",
    "\n",
    "Use the [active_from_xyz](https://discretize.simpeg.xyz/en/main/api/generated/discretize.utils.active_from_xyz.html) utility function to find the indices of the active cells using the mesh and surface topography. The output quantity is a ``bool`` array."
   ]
  },
  {
   "cell_type": "code",
   "execution_count": null,
   "metadata": {},
   "outputs": [],
   "source": [
    "# Indices of the active mesh cells from topography (e.g. cells below surface)\n",
    "active_cells = active_from_xyz(mesh, topo_2d)\n",
    "\n",
    "# number of active cells\n",
    "n_active = np.sum(active_cells)"
   ]
  },
  {
   "cell_type": "markdown",
   "metadata": {},
   "source": [
    "## Step 5: Project Survey to Discretized Topography\n",
    "\n",
    "<img src=\"https://raw.githubusercontent.com/simpeg/agrogeo24/main/images/project_electrodes.png\" width=\"30%\" align=\"right\"/>\n",
    "\n",
    "Surface DC resistivity data will not be modeled accurately if the electrodes are modeled as living above or below the surface. It is especially problematic when electrodes are modeled as living in the air. Prior to inverting DC resistivity data, we must project the electrodes from their true elevation to the surface of the *discretized* topography. This is done using the [drape_electrodes_on_topography](https://docs.simpeg.xyz/content/api/generated/SimPEG.electromagnetics.static.resistivity.Survey.drape_electrodes_on_topography.html#SimPEG.electromagnetics.static.resistivity.Survey.drape_electrodes_on_topography) method."
   ]
  },
  {
   "cell_type": "code",
   "execution_count": null,
   "metadata": {},
   "outputs": [],
   "source": [
    "dc_data.survey.drape_electrodes_on_topography(mesh, active_cells, option=\"top\")"
   ]
  },
  {
   "cell_type": "markdown",
   "metadata": {},
   "source": [
    "## Step 6: Mapping from the Model to the Mesh\n",
    "\n",
    "For DC resistivity inversion, we generally define the model parameters as the log-resistivity values of all active cells. This is done for several reasons:\n",
    "\n",
    "1. The resistivity of the inactive (air) cells is known, so we want to leave these values fixed during the inversion.\n",
    "2. Electrical resistivity spans many orders of magntitude. So it is better to impose constraints on log-values because they exist on the same numerical scale.\n",
    "3. Inverting to recover log-resistivity values will naturally impose a positivity constraint on subsurface electrical resistivity.\n",
    "\n",
    "To define our model parameters this way, our mapping must first convert the model values to resistivity values on active cells, then project these values to the entire mesh AND set a static value for all air cells.\n",
    "\n",
    "<img src=\"https://raw.githubusercontent.com/simpeg/agrogeo24/main/images/mapping_2.png\" width=\"80%\" align=\"center\"/>\n",
    "\n",
    "### <span style=\"color:darkgreen\">Exercise (beginner):</span>\n",
    "\n",
    "First, generate an [SimPEG.maps.ExpMap](https://docs.simpeg.xyz/content/api/generated/SimPEG.maps.ExpMap.html#SimPEG.maps.ExpMap) mapping object to map log-resistivities to resistivities. Don't forget to set the number of model parameters as equal to the number of active cells. Next, generate a [SimPEG.maps.InjectActiveCells](https://docs.simpeg.xyz/content/api/generated/SimPEG.maps.InjectActiveCells.html#SimPEG.maps.InjectActiveCells) mapping object to project values on active cells to the entire mesh. Make sure to fix the value of inactive (air) cells to 1e8 $\\Omega m$. Finally, use the $*$ operator to combine the separate mapping objects into a single mapping."
   ]
  },
  {
   "cell_type": "code",
   "execution_count": null,
   "metadata": {},
   "outputs": [],
   "source": [
    "# Model parameters to all cells\n",
    "log_resistivity_map = maps.InjectActiveCells(mesh, active_cells, 1e8) * maps.ExpMap(\n",
    "    nP=n_active\n",
    ")"
   ]
  },
  {
   "cell_type": "markdown",
   "metadata": {},
   "source": [
    "## Step 7: Define the Forward Simulation\n",
    "\n",
    "Since our model consists of log-resistivities, we use the *rhoMap* keyword argument to set the mapping from the model to the mesh cells. Except for in extreme cases, we can compute and store the Jacobian explicitly for 2.5D problems. By doing so, we drastically reduce the run-time of the inversion."
   ]
  },
  {
   "cell_type": "code",
   "execution_count": null,
   "metadata": {},
   "outputs": [],
   "source": [
    "dc_simulation = dc.simulation_2d.Simulation2DNodal(\n",
    "    mesh, survey=dc_data.survey, rhoMap=log_resistivity_map, storeJ=True\n",
    ")"
   ]
  },
  {
   "cell_type": "markdown",
   "metadata": {},
   "source": [
    "## Step 8: Starting/Reference Models\n",
    "\n",
    "The **starting model** defines a reasonable starting point for the inversion and frequently represents an initial estimate of the true model. It should be noted that the staring model **cannot be vector of zeros,** otherwise the inversion will be unable to compute a gradient direction at the first iteration. For DC resistivity inversion, the starting model is generally a halfspace estimated from the set of apparent resistivities.\n",
    "\n",
    "The **reference model** is used to include a-priori geological information in the recovered model. By default, the starting model is set as the reference model.\n",
    "\n",
    "### <span style=\"color:darkgreen\">Exercise (beginner):</span>\n",
    "\n",
    "Generate a halfspace starting and reference model using the median apparent resistivity value. The length of the starting and reference models **must** equal the number of model parameters!!!\n",
    "\n",
    "### <span style=\"color:darkorange\">Exercise (advanced):</span>\n",
    "\n",
    "Use the maximum apparent resistivity value to set the starting model. This assumes that the overall geology is more resistive."
   ]
  },
  {
   "cell_type": "code",
   "execution_count": null,
   "metadata": {},
   "outputs": [],
   "source": [
    "# Median apparent resistivity\n",
    "median_resistivity = np.median(apparent_resistivities)\n",
    "\n",
    "# Create staring model from log-conductivity\n",
    "starting_model = np.log(median_resistivity) * np.ones(n_active)\n",
    "starting_model = np.log(300) * np.ones(n_active)"
   ]
  },
  {
   "cell_type": "markdown",
   "metadata": {},
   "source": [
    "## Step 9: Define the Inverse Problem\n",
    "\n",
    "Geophysical inversion is frequently formulated as an optimization problem. The solution to the inverse problem is the model $\\mathbf{m}$ which minimizes an objective (penalty) function $\\phi (\\mathbf{m})$ of the form:\n",
    "\n",
    "$$\n",
    "\\min_{\\mathbf{m}} \\; \\phi (\\mathbf{m}) = \\phi_d (\\mathbf{m}) + \\beta \\, \\phi_m (\\mathbf{m})\\\\\n",
    "$$\n",
    "\n",
    "where\n",
    "\n",
    "* $\\phi_d (\\mathbf{m})$ is the data misfit. It is a measure of how well data predicted with a model $\\mathbf{m}$ fits the data.\n",
    "* $\\phi_m (\\mathbf{m})$ is the regularization. It is where we impose structural constraints on the recovered model.\n",
    "* $\\beta$ is the trade-off parameter that balances the relative emphasis of fitting the data and imposing structure.\n",
    "\n",
    "In step 9, SimPEG functionality is used to generate objects that define:\n",
    "\n",
    "* the data misfit\n",
    "* the regularization\n",
    "* the algorithm that solves the optimization problem\n",
    "* an object that connects the data misfit, regularization and optimization algorithm\n",
    "\n",
    "In step 10, we discuss the approach for selecting an appropriate trade-off parameter $\\beta$."
   ]
  },
  {
   "cell_type": "markdown",
   "metadata": {},
   "source": [
    "### Step 9a: Define the Data Misfit\n",
    "\n",
    "The data misfit $\\phi_d (\\mathbf{m})$ is a measure of how well data predicted with a given model $\\mathbf{m}$ fits the observed data. If the data misfit is too large, the model clearly does not explain the observed data and is therefore not a suitable model. In geophysical inversion, it is common to define the data misfit as the L2-norm of the weighted residual between the observed data and predicted data:\n",
    "\n",
    "$$\n",
    "\\phi_d (\\mathbf{m})\n",
    "= \\sum_{i=1}^{nD} \\, \\Bigg ( \\frac{d_i^{pred} - d_i^{obs}}{\\varepsilon_i} \\Bigg )^2\n",
    "= \\big \\| \\mathbf{W_d} \\big ( F[\\mathbf{m}] - \\mathbf{d^{obs}} \\big ) \\big \\|^2\n",
    "$$\n",
    "\n",
    "We define $F[\\mathbf{m}]$ as the predicted data for a given model. And $\\mathbf{W_d}$ is a diagonal matrix that weights the residual by the data uncertainties. We can see from this expression that the data misfit is smaller when:\n",
    "\n",
    "* $F[\\mathbf{m}] \\rightarrow \\mathbf{d^{obs}}$\n",
    "* The data uncertainties $\\varepsilon_i$ are very large\n",
    "\n",
    "### <span style=\"color:darkgreen\">Exercise (beginner):</span>\n",
    "\n",
    "Generate a [data_misfit.L2DataMisfit](https://docs.simpeg.xyz/content/api/generated/SimPEG.data_misfit.L2DataMisfit.html) object and call it **dmis**. To instantiate this objected, we must set the following keyword arguments:\n",
    "\n",
    "* **simulation=dc_simulation** (our simulation object)\n",
    "* **data=dc_data** (our data object)"
   ]
  },
  {
   "cell_type": "code",
   "execution_count": null,
   "metadata": {},
   "outputs": [],
   "source": [
    "dmis = data_misfit.L2DataMisfit(simulation=dc_simulation, data=dc_data)"
   ]
  },
  {
   "cell_type": "markdown",
   "metadata": {},
   "source": [
    "### Step 9b: Regularization\n",
    "\n",
    "The regularization function $\\phi_m (\\mathbf{m})$ is where we impose structural constraints on the recovered model; please visit [this online resource](https://giftoolscookbook.readthedocs.io/en/latest/content/fundamentals/ObjectiveFunction.html). In SimPEG, there are a multitude of objects that can be used to define various types of regularization. A very common regularization function for geophysical inversion is weighted least-squares:\n",
    "\n",
    "$$\n",
    "\\phi_m (\\mathbf{m})\n",
    "= \\alpha_s \\, \\big \\| \\mathbf{W_s} \\big ( \\mathbf{m - m}_{ref} \\big ) \\big \\|^2\n",
    "+ \\alpha_x \\, \\big \\| \\mathbf{W_x \\, G_x \\, m} \\big \\|^2\n",
    "+ \\alpha_y \\, \\big \\| \\mathbf{W_z \\, G_y \\, m} \\big \\|^2\n",
    "$$\n",
    "\n",
    "where \n",
    "\n",
    "* $\\alpha_s, \\alpha_x, \\alpha_y$ balance the relative emphasis on each term,\n",
    "* $\\mathbf{W}_s, \\mathbf{W}_x, \\mathbf{W}_y$ are matrices that apply cell weights,\n",
    "* $\\mathbf{G_x}$ and $\\mathbf{G_y}$ are partial gradient operators,\n",
    "* and $\\mathbf{m}_{ref}$ is a user-defined reference model\n",
    "\n",
    "Weighted least-squares regularization imposes constraints ensuring the inversion recovers a model that 1) differs minimally from a reference model $\\mathbf{m}_{ref}$, and/or 2) has smooth gradients along the x and y directions.\n",
    "\n",
    "### <span style=\"color:darkgreen\">Exercise (beginner):</span>\n",
    "\n",
    "Generate a [regularization.WeightedLeastSquares](myst:SimPEG#SimPEG.regularization.WeightedLeastSquares) object and call it **reg**. Set to invert for the smoothest model by instantiating the object with:\n",
    "\n",
    "* **mesh** (the mesh as an input argument)\n",
    "* **active_cells=active_cells** (regularization only acts on active cells)\n",
    "* **reference_model=starting_model** (set starting model as the reference model)\n",
    "* **alpha_s=1e-5** (set impact of the smallness term to be negligible)\n",
    "\n",
    "### <span style=\"color:darkorange\">Exercise (advanced):</span>\n",
    "\n",
    "Set the regularization to enforce smoothness roughly 10x more than smallness. Do this by setting **length_scale_x** and **length_scale_y** to **10** as keyword arguments instead of setting **alpha_s**. "
   ]
  },
  {
   "cell_type": "code",
   "execution_count": null,
   "metadata": {},
   "outputs": [],
   "source": [
    "# BEGINNER\n",
    "# reg = regularization.WeightedLeastSquares(\n",
    "#     mesh, active_cells=active_cells, reference_model=starting_model, alpha_s=1e-5\n",
    "# )\n",
    "\n",
    "# ADVANCED\n",
    "reg = regularization.WeightedLeastSquares(\n",
    "    mesh,\n",
    "    active_cells=active_cells,\n",
    "    reference_model=starting_model,\n",
    "    length_scale_x=10,\n",
    "    length_scale_y=10\n",
    ")"
   ]
  },
  {
   "cell_type": "markdown",
   "metadata": {},
   "source": [
    "### Step 9c: Optimization\n",
    "\n",
    "<img src=\"https://raw.githubusercontent.com/simpeg/agrogeo24/main/images/newton_iteration.png\" width=\"30%\" align=\"right\"/>\n",
    "\n",
    "For a given trade-off parameter $\\beta$, we must solve the following optimization problem:\n",
    "\n",
    "$$\n",
    "\\min_{\\mathbf{m}} \\; \\phi (\\mathbf{m}) = \\phi_d (\\mathbf{m}) + \\beta \\phi_m (\\mathbf{m}) \\\\\n",
    "$$\n",
    "\n",
    "Because our data misfit and regularization functions are parabolic, the solution $\\mathbf{m^*}$ occurs when the gradient is equal to zero, i.e.:\n",
    "\n",
    "$$\n",
    "\\nabla \\phi(\\mathbf{m^*}) = \\mathbf{0}\n",
    "$$\n",
    "\n",
    "In practice, this problem is solved iteratively using quasi-Newton methods (see figure). Where $\\mathbf{H}$ represents an approximation of the Hessian, a model update $\\delta \\mathbf{m}$ direction is obtained by solving the following linear system:\n",
    "\n",
    "$$\n",
    "\\mathbf{H}_k\\, \\delta \\mathbf{m}_k = - \\nabla \\! \\phi_k\n",
    "$$\n",
    "\n",
    "We then determine an appropriate step length $\\gamma$ and update the model as follows:\n",
    "\n",
    "$$\n",
    "\\mathbf{m}_{k+1} = \\mathbf{m}_k + \\gamma \\, \\delta \\mathbf{m}_k\n",
    "$$\n",
    "\n",
    "This process is repeated until stopping criteria for the algorithm is reached.\n",
    "\n",
    "\n",
    "### <span style=\"color:darkgreen\">Exercise (beginner):</span>\n",
    "\n",
    "Generate an [optimization.InexactGaussNewton](https://docs.simpeg.xyz/content/api/generated/SimPEG.optimization.InexactGaussNewton.html) object to solve the invert problem and call it **opt**. Set the following properties for the algorithm via keyword arguments:\n",
    "\n",
    "* **maxIter=20** (maximum number of iterations; beta and Newton)\n",
    "* **maxIterLS=40** (maximum number of line searches for $\\gamma$)\n",
    "* **maxIterCG=20** (maximum number of conjugate gradient iterations)\n",
    "* **tolCG=1e-3** (minimum relative error threshold)"
   ]
  },
  {
   "cell_type": "code",
   "execution_count": null,
   "metadata": {},
   "outputs": [],
   "source": [
    "opt = optimization.InexactGaussNewton(\n",
    "    maxIter=20, maxIterLS=40, maxIterCG=20, tolCG=1e-3\n",
    ")"
   ]
  },
  {
   "cell_type": "markdown",
   "metadata": {},
   "source": [
    "### Step 9d: Inverse Problem\n",
    "\n",
    "### <span style=\"color:darkgreen\">Exercise (beginner):</span>\n",
    "\n",
    "Use the [BaseInvProblem](https://docs.simpeg.xyz/content/api/generated/SimPEG.inverse_problem.BaseInvProblem.html) class to fully define the inverse problem that is solved at each beta (trade-off parameter) iteration. Use the variable name **inv_prob**. Instantiation requires the following as input arguments:\n",
    "\n",
    "* **dmis** (the data misfit object)\n",
    "* **reg** (the regularization object)\n",
    "* **opt** (the optimization object)"
   ]
  },
  {
   "cell_type": "code",
   "execution_count": null,
   "metadata": {},
   "outputs": [],
   "source": [
    "inv_prob = inverse_problem.BaseInvProblem(dmis, reg, opt)"
   ]
  },
  {
   "cell_type": "markdown",
   "metadata": {},
   "source": [
    "## Step 10: Defining Inversion Directives\n",
    "\n",
    "Directives provide specific instructions to the inversion while it is running. Here, we define SimPEG directives commonly used for least-squares DC resistivitiy inversion."
   ]
  },
  {
   "cell_type": "markdown",
   "metadata": {},
   "source": [
    "### 10a: Beta Cooling Directives\n",
    "\n",
    "<img src=\"https://raw.githubusercontent.com/simpeg/agrogeo24/main/images/tikhonov_curve.png\" width=\"40%\" align=\"right\"/>\n",
    "\n",
    "In practice, we don't really know the ideal value for the trade-off parameter $\\beta$ that balances the data misfit and regularization functions. As a result, we use a $\\beta$ cooling approach. As shown in the figure, we start with a large value for $\\beta$. We solve the optimization problem and recover a model that surely won't fit the data. We then lower $\\beta$ by a constant factor and recover another model that fits the data better. We repeat this process until the data misfit for the recovered model hits a target value $\\phi_d^*$. The SimPEG directives which control this process are:\n",
    "\n",
    "- [BetaEstimate_ByEig](myst:SimPEG#SimPEG.directives.BetaEstimate_ByEig): Used to find and set a reasonable starting value for the trade-off parameter (beta).\n",
    "\n",
    "- [BetaSchedule](myst:SimPEG#SimPEG.directives.BetaSchedule): Sets the reduction factor for beta whenever it is reduced (*coolingFactor*). And sets the number of Newton iterations (*coolingRate*) that are used to solve the optimization problem at each new beta.\n",
    "\n",
    "- [TargetMisfit](myst:SimPEG#SimPEG.directives.TargetMisfit): Terminates the inversion when the data misfit equals the target misfit $\\phi_d^*$. This set using *chifact*, when $\\phi_d^* = \\chi \\times num.data$\n",
    "\n",
    "**Important:** If the uncertainties perfectly characterize the standard deviations of the noise on our data, the predicted data should adequately fit the observed data when $\\phi_d$ equals the number of data. However, in the event we over/under-estimate the uncertainties, it is best to examine the curve and infer the model.\n",
    "\n",
    "### <span style=\"color:darkgreen\">Exercise (beginner):</span>\n",
    "\n",
    "Define the starting beta, schedule and target misfit directives.\n",
    "\n",
    "* Generate a [directives.BetaEstimate_ByEig](myst:SimPEG#SimPEG.directives.BetaEstimate_ByEig) object and call it **starting_beta**. Set keyword argument **beta0_ratio=100**\n",
    "* Generate a [directives.BetaSchedule](myst:SimPEG#SimPEG.directives.BetaSchedule) and call it **beta_schedule**. Set the following keyword arguments:\n",
    "\n",
    "    * **coolingFactor=2** (reduction factor for $\\beta$)\n",
    "    * **coolingRate=2** (number of Newton iterations at each $\\beta$)\n",
    "\n",
    "* Generate a [directives.TargetMisfit](myst:SimPEG#SimPEG.directives.TargetMisfit) to set stopping criteria for the inversion and call it **target_misfit**. Set keyword argument **chifact=1** to so the inversion terminates when data misfit equals number of data."
   ]
  },
  {
   "cell_type": "code",
   "execution_count": null,
   "metadata": {},
   "outputs": [],
   "source": [
    "starting_beta = directives.BetaEstimate_ByEig(beta0_ratio=100)\n",
    "beta_schedule = directives.BetaSchedule(coolingFactor=2, coolingRate=2)\n",
    "target_misfit = directives.TargetMisfit(chifact=0.5)"
   ]
  },
  {
   "cell_type": "markdown",
   "metadata": {},
   "source": [
    "### Other Directives\n",
    "\n",
    "Other common directives for weighted least-squares inversion of DC resistivity data are:\n",
    "\n",
    "- [UpdateSensitivityWeights](myst:SimPEG#SimPEG.directives.UpdateSensitivityWeights): apply sensitivity weighting to counteract the natural tendancy of DC resistivity inversion to place materials near the electrodes. Since the problem is non-linear and the sensitivities are updated with every model, we set `every_iteration=True`.\n",
    "\n",
    "- [UpdatePreconditioner](myst:SimPEG#SimPEG.directives.UpdatePreconditioner): Apply Jacobi preconditioner when solving the optimization problem to reduce the number of conjugate gradient iterations. We set `update_every_iteration=True` because the ideal preconditioner is model-dependent.\n",
    "\n",
    "- **SaveInversionProgress:** a directive we defined earlier in the notebook to allow us to better Q.C. the inversion result.\n"
   ]
  },
  {
   "cell_type": "code",
   "execution_count": null,
   "metadata": {},
   "outputs": [],
   "source": [
    "sensitivity_weights = directives.UpdateSensitivityWeights(\n",
    "    every_iteration=True, threshold_value=1e-2\n",
    ")\n",
    "update_jacobi = directives.UpdatePreconditioner(update_every_iteration=True)\n",
    "save_inversion = SaveInversionProgress()"
   ]
  },
  {
   "cell_type": "markdown",
   "metadata": {},
   "source": [
    "The directive objects are organized in a ``list``. Upon starting the inversion or updating the recovered model at each iteration, the inversion will call each directive within the list **in order**. The order of the directives matters, and SimPEG will throw an error if directives are organized into an improper order. Some directives, like the ``BetaEstimate_ByEig`` are only used when starting the inversion. Other directives, like ``UpdatePreconditionner``, are used whenever the model is updated."
   ]
  },
  {
   "cell_type": "code",
   "execution_count": null,
   "metadata": {},
   "outputs": [],
   "source": [
    "directives_list = [\n",
    "    sensitivity_weights,\n",
    "    update_jacobi,\n",
    "    starting_beta,\n",
    "    beta_schedule,\n",
    "    save_inversion,\n",
    "    target_misfit,\n",
    "]"
   ]
  },
  {
   "cell_type": "markdown",
   "metadata": {},
   "source": [
    "## Step 10: Define and Run the Inversion\n",
    "\n",
    "### <span style=\"color:darkgreen\">Exercise (beginner):</span>\n",
    "\n",
    "1. Define the inversion by instantiating an [inversion.BaseInversion](https://docs.simpeg.xyz/content/api/generated/SimPEG.inversion.BaseInversion.html) object. Call this object **inv**. This object requires the **inv_prob** and **directives_list** as input arguments.\n",
    "2. Use the **run** method to run the inversion. This method requires the **starting_model** as in input argument."
   ]
  },
  {
   "cell_type": "code",
   "execution_count": null,
   "metadata": {
    "scrolled": false
   },
   "outputs": [],
   "source": [
    "# Here we combine the inverse problem and the set of directives\n",
    "inv = inversion.BaseInversion(inv_prob, directives_list)\n",
    "\n",
    "# Run the inversion\n",
    "recovered_model = inv.run(starting_model)"
   ]
  },
  {
   "cell_type": "markdown",
   "metadata": {},
   "source": [
    "## Step 11: Inversion Outputs"
   ]
  },
  {
   "cell_type": "markdown",
   "metadata": {},
   "source": [
    "### 11a: Extract Some Inversion Outputs"
   ]
  },
  {
   "cell_type": "code",
   "execution_count": null,
   "metadata": {},
   "outputs": [],
   "source": [
    "iteration = save_inversion.inversion_results[\"iteration\"]\n",
    "beta = save_inversion.inversion_results[\"beta\"]\n",
    "phi_d = save_inversion.inversion_results[\"phi_d\"]\n",
    "phi_m = save_inversion.inversion_results[\"phi_m\"]\n",
    "dpred = save_inversion.inversion_results[\"dpred\"]\n",
    "models = save_inversion.inversion_results[\"model\"]"
   ]
  },
  {
   "cell_type": "markdown",
   "metadata": {},
   "source": [
    "### 11b: Plot Tikhonov Curve\n",
    "\n",
    "Plot the Tikhonov curve to determine whether the inversion reaches target misfit, and the point at which the recovered models start to overfit the data."
   ]
  },
  {
   "cell_type": "code",
   "execution_count": null,
   "metadata": {},
   "outputs": [],
   "source": [
    "fig = plt.figure(figsize=(15, 6))\n",
    "ax1a = fig.add_axes([0.05, 0.05, 0.35, 0.9])\n",
    "ax1b = ax1a.twinx()\n",
    "ax2a = fig.add_axes([0.55, 0.05, 0.35, 0.9])\n",
    "ax2b = ax2a.twinx()\n",
    "\n",
    "ax1a.plot(iteration, phi_d, \"b-o\")\n",
    "ax1a.plot(\n",
    "    iteration,\n",
    "    target_misfit.chifact * dc_data.survey.nD * np.ones_like(iteration),\n",
    "    \"k--\",\n",
    ")\n",
    "ax1b.plot(iteration, phi_m, \"r-o\")\n",
    "\n",
    "ax1a.set_xlabel(\"Iteration\", fontsize=20)\n",
    "ax1a.set_ylabel(\"Data Misfit ($\\phi_d$)\", color=\"b\", fontsize=18)\n",
    "ax1a.tick_params(axis=\"y\", colors=\"b\")\n",
    "ax1a.set_title(\"Tikhonov Curve\", fontsize=20)\n",
    "ax1a.set_xlim([np.min(iteration), np.max(iteration)])\n",
    "ax1b.tick_params(axis=\"y\", colors=\"r\")\n",
    "ax1b.set_ylabel(\"Regularization ($\\phi_m$)\", color=\"r\", fontsize=18)\n",
    "\n",
    "ax2a.semilogy(iteration, phi_d, \"b-o\")\n",
    "ax2a.semilogy(\n",
    "    iteration,\n",
    "    target_misfit.chifact * dc_data.survey.nD * np.ones_like(iteration),\n",
    "    \"k--\",\n",
    ")\n",
    "ax2b.semilogy(iteration, phi_m, \"r-o\")\n",
    "ax2a.set_xlabel(\"Iteration\", fontsize=20)\n",
    "ax2a.set_ylabel(\"Data Misfit ($\\phi_d$)\", color=\"b\", fontsize=18)\n",
    "ax2a.tick_params(axis=\"y\", which=\"both\", colors=\"b\")\n",
    "ax2a.set_title(\"Tikhonov Curve\", fontsize=20)\n",
    "ax2a.set_xlim([np.min(iteration), np.max(iteration)])\n",
    "ax2b.tick_params(axis=\"y\", which=\"both\", colors=\"r\")\n",
    "ax2b.set_ylabel(\"Regularization ($\\phi_m$)\", color=\"r\", fontsize=18)\n",
    "\n",
    "plt.show()"
   ]
  },
  {
   "cell_type": "markdown",
   "metadata": {},
   "source": [
    "### 11c: Choose an Iteration to Further Examine"
   ]
  },
  {
   "cell_type": "code",
   "execution_count": null,
   "metadata": {},
   "outputs": [],
   "source": [
    "model_iteration = -1  # -1 for final model"
   ]
  },
  {
   "cell_type": "markdown",
   "metadata": {},
   "source": [
    "### 11d: Plot Observed Data, Prediced Data and Normalized Misfit\n",
    "\n",
    "This step is necessary for determining whether the recovered model accurately reproduces observed anomalies. Here, we plot the observed data, predicted data for the recovered model, and the normalized data misfit. As we can see, the recovered model reproduces the observed data quite well. And the normalized misfit map indicates we are not overfitting certain electrodes relative to others.\n",
    "\n",
    "If desired, one could also use the [apparent_resistivity_from_voltage](https://docs.simpeg.xyz/content/api/generated/SimPEG.electromagnetics.static.utils.apparent_resistivity_from_voltage.html#SimPEG.electromagnetics.static.utils.apparent_resistivity_from_voltage) utility function compare observed and predicted data as apparent resistivities."
   ]
  },
  {
   "cell_type": "code",
   "execution_count": null,
   "metadata": {},
   "outputs": [],
   "source": [
    "dobs = dc_data.dobs\n",
    "std = dc_data.standard_deviation\n",
    "\n",
    "fig = plt.figure(figsize=(7, 9))\n",
    "data_array = [\n",
    "    np.abs(dobs),\n",
    "    np.abs(dpred[model_iteration]),\n",
    "    (dobs - dpred[model_iteration]) / std,\n",
    "]\n",
    "plot_title = [\"Observed Data\", \"Predicted Data\", \"Normalized Misfit\"]\n",
    "plot_units = [\"V/A\", \"V/A\", \"\"]\n",
    "scale = [\"log\", \"log\", \"linear\"]\n",
    "cmap_list = [mpl.cm.viridis, mpl.cm.viridis, mpl.cm.RdYlBu]\n",
    "\n",
    "ax1 = 3 * [None]\n",
    "cax1 = 3 * [None]\n",
    "cbar = 3 * [None]\n",
    "cplot = 3 * [None]\n",
    "\n",
    "for ii in range(0, 3):\n",
    "    ax1[ii] = fig.add_axes([0.15, 0.72 - 0.33 * ii, 0.65, 0.21])\n",
    "    cax1[ii] = fig.add_axes([0.81, 0.72 - 0.33 * ii, 0.03, 0.21])\n",
    "    cplot[ii] = plot_pseudosection(\n",
    "        dc_data.survey,\n",
    "        data_array[ii],\n",
    "        \"contourf\",\n",
    "        data_locations=True,\n",
    "        ax=ax1[ii],\n",
    "        cax=cax1[ii],\n",
    "        scale=scale[ii],\n",
    "        cbar_label=plot_units[ii],\n",
    "        mask_topography=True,\n",
    "        contourf_opts={\"levels\": 25, \"cmap\": cmap_list[ii]},\n",
    "    )\n",
    "    ax1[ii].set_title(plot_title[ii])\n",
    "\n",
    "plt.show()"
   ]
  },
  {
   "cell_type": "markdown",
   "metadata": {},
   "source": [
    "### 11e: Plot Observed and Predicted Apparent Resistivities"
   ]
  },
  {
   "cell_type": "code",
   "execution_count": null,
   "metadata": {},
   "outputs": [],
   "source": [
    "# Plot apparent conductivity pseudo-section\n",
    "fig = plt.figure(figsize=(8, 2.75))\n",
    "ax1 = fig.add_axes([0.1, 0.15, 0.75, 0.78])\n",
    "plot_pseudosection(\n",
    "    dc_data.survey,\n",
    "    dobs=apparent_resistivities,\n",
    "    plot_type=\"contourf\",\n",
    "    data_locations=True,\n",
    "    ax=ax1,\n",
    "    scale=\"log\",\n",
    "    cbar_label=\"$\\Omega m$\",\n",
    "    mask_topography=True,\n",
    "    contourf_opts={\"levels\": 40, \"cmap\": mpl.cm.RdYlBu_r},\n",
    ")\n",
    "ax1.set_title(\"Apparent Resistivity (Observed)\")\n",
    "plt.show()\n",
    "\n",
    "# Plot apparent conductivity pseudo-section\n",
    "apparent_resistivities_dpred = apparent_resistivity_from_voltage(\n",
    "    dc_data.survey, dpred[model_iteration]\n",
    ")\n",
    "\n",
    "fig = plt.figure(figsize=(8, 2.75))\n",
    "ax1 = fig.add_axes([0.1, 0.15, 0.75, 0.78])\n",
    "plot_pseudosection(\n",
    "    dc_data.survey,\n",
    "    dobs=apparent_resistivities_dpred,\n",
    "    plot_type=\"contourf\",\n",
    "    data_locations=True,\n",
    "    ax=ax1,\n",
    "    scale=\"log\",\n",
    "    cbar_label=\"$\\Omega m$\",\n",
    "    mask_topography=True,\n",
    "    contourf_opts={\"levels\": 40, \"cmap\": mpl.cm.RdYlBu_r},\n",
    ")\n",
    "ax1.set_title(\"Apparent Resistivity (Predicted)\")\n",
    "plt.show()"
   ]
  },
  {
   "cell_type": "markdown",
   "metadata": {},
   "source": [
    "### 11f: Plot Recovered Model\n",
    "\n",
    "As we can see, weighted least-squares regularization leads to the recovery of smooth models."
   ]
  },
  {
   "cell_type": "code",
   "execution_count": null,
   "metadata": {},
   "outputs": [],
   "source": [
    "if data_type == 'dipole-dipole':\n",
    "\n",
    "    air_resistivity = 1e8\n",
    "    background_resistivity = 1e2\n",
    "    block_resistivity = 1e3\n",
    "    basement_resistivity = 1e1\n",
    "    \n",
    "    true_resistivity = background_resistivity * np.ones(mesh.n_cells)\n",
    "\n",
    "    ind_basement = mesh.cell_centers[:, -1] < -16.0\n",
    "    true_resistivity[ind_basement] = basement_resistivity\n",
    "\n",
    "    ind_block = model_builder.get_indices_block(\n",
    "        np.r_[5.0, -10.0], np.r_[15.0, 0.0], mesh.cell_centers\n",
    "    )\n",
    "    true_resistivity[ind_block] = block_resistivity\n",
    "\n",
    "    true_resistivity = true_resistivity[active_cells]\n",
    "    \n",
    "elif: data_type == 'pole-dipole':\n",
    "        \n",
    "    air_resistivity = 1e8\n",
    "    background_resistivity = 2e2\n",
    "    aquifer_resistivity = 2e1\n",
    "    basement_resistivity = 1e3\n",
    "    \n",
    "    true_resistivity = background_resistivity * np.ones(mesh.n_cells)\n",
    "\n",
    "    ind_aquifer = mesh.cell_centers[:, -1] < -12\n",
    "    true_resistivity[ind_aquifer] = aquifer_resistivity\n",
    "\n",
    "    y_temp = 10.0 * np.tanh((mesh.cell_centers[:, 0] - 20) / 16) - 16\n",
    "    ind_basement = mesh.cell_centers[:, -1] < y_temp\n",
    "    true_resistivity[ind_basement] = 1000\n",
    "\n",
    "    true_resistivity[mesh.cell_centers[:, -1] < -22] = basement_resistivity\n",
    "\n",
    "    true_resistivity = true_resistivity[active_cells]"
   ]
  },
  {
   "cell_type": "code",
   "execution_count": null,
   "metadata": {},
   "outputs": [],
   "source": [
    "# Spatial plotting limits\n",
    "x_lim = [-60, 60]\n",
    "y_lim = [y_topo_max - 50, y_topo_max]\n",
    "\n",
    "# Define a mapping to plot models and ignore inactive cells\n",
    "plotting_map = maps.InjectActiveCells(mesh, active_cells, np.nan)\n",
    "plotting_model = [true_resistivity, np.exp(models[model_iteration])]\n",
    "norm = LogNorm(vmin=true_resistivity.min(), vmax=true_resistivity.max())\n",
    "\n",
    "fig = plt.figure(figsize=(10, 8))\n",
    "ax1 = 2 * [None]\n",
    "ax2 = 2 * [None]\n",
    "title_str = [\n",
    "    \"True Resistivity\",\n",
    "    \"Recovered Resistivity\",\n",
    "]\n",
    "\n",
    "for ii in range(0, 2):\n",
    "    ax1[ii] = fig.add_axes([0.14, 0.55 - 0.5 * ii, 0.68, 0.35])\n",
    "    mesh.plot_image(\n",
    "        plotting_map * plotting_model[ii],\n",
    "        ax=ax1[ii],\n",
    "        grid=False,\n",
    "        pcolor_opts={\"norm\": norm, \"cmap\": mpl.cm.RdYlBu_r},\n",
    "    )\n",
    "\n",
    "    ax1[ii].set_xlim(x_lim)\n",
    "    ax1[ii].set_ylim(y_lim)\n",
    "    ax1[ii].set_title(title_str[ii])\n",
    "    ax1[ii].set_xlabel(\"x (m)\")\n",
    "    ax1[ii].set_ylabel(\"y (m)\")\n",
    "\n",
    "    ax2[ii] = fig.add_axes([0.84, 0.55 - 0.5 * ii, 0.03, 0.35])\n",
    "    cbar = mpl.colorbar.ColorbarBase(\n",
    "        ax2[ii], norm=norm, orientation=\"vertical\", cmap=mpl.cm.RdYlBu_r\n",
    "    )\n",
    "    cbar.set_label(r\"$\\rho (\\Omega m)$\", rotation=270, labelpad=15, size=12)\n",
    "\n",
    "pseudo_locations_xy = pseudo_locations(dc_data.survey)\n",
    "ax1[1].scatter(pseudo_locations_xy[:, 0], pseudo_locations_xy[:, -1], 1.5, \"k\")\n",
    "\n",
    "plt.show()"
   ]
  },
  {
   "cell_type": "code",
   "execution_count": null,
   "metadata": {},
   "outputs": [],
   "source": []
  }
 ],
 "metadata": {
  "kernelspec": {
   "display_name": "Python 3 (ipykernel)",
   "language": "python",
   "name": "python3"
  },
  "language_info": {
   "codemirror_mode": {
    "name": "ipython",
    "version": 3
   },
   "file_extension": ".py",
   "mimetype": "text/x-python",
   "name": "python",
   "nbconvert_exporter": "python",
   "pygments_lexer": "ipython3",
   "version": "3.10.9"
  }
 },
 "nbformat": 4,
 "nbformat_minor": 1
}
